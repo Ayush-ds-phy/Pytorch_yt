{
  "nbformat": 4,
  "nbformat_minor": 0,
  "metadata": {
    "colab": {
      "provenance": [],
      "gpuType": "T4",
      "authorship_tag": "ABX9TyMHSqVwdvog4zjHpuOFOgOt",
      "include_colab_link": true
    },
    "kernelspec": {
      "name": "python3",
      "display_name": "Python 3"
    },
    "language_info": {
      "name": "python"
    },
    "accelerator": "GPU"
  },
  "cells": [
    {
      "cell_type": "markdown",
      "metadata": {
        "id": "view-in-github",
        "colab_type": "text"
      },
      "source": [
        "<a href=\"https://colab.research.google.com/github/Ayush-ds-phy/Pytorch_yt/blob/main/iris_nn.ipynb\" target=\"_parent\"><img src=\"https://colab.research.google.com/assets/colab-badge.svg\" alt=\"Open In Colab\"/></a>"
      ]
    },
    {
      "cell_type": "code",
      "execution_count": 37,
      "metadata": {
        "id": "A_DAs3zTuVgl"
      },
      "outputs": [],
      "source": [
        "#Importing\n",
        "import torch\n",
        "import torch.nn as nn\n",
        "import torch.nn.functional as f\n",
        "import matplotlib.pyplot as plt\n",
        "import torch.optim as optim\n",
        "import pandas as pd\n",
        "from sklearn.model_selection import train_test_split"
      ]
    },
    {
      "cell_type": "code",
      "source": [
        "class Model(nn.Module):\n",
        "  def __init__(self, in_feat=4, h1=7, h2=7, out_feat=3):\n",
        "    super().__init__()\n",
        "    self.fc1=nn.Linear(in_feat,h1)\n",
        "    self.fc2=nn.Linear(h1,h2)\n",
        "    self.fcf=nn.Linear(h2,out_feat)\n",
        "  def forward(self, x):\n",
        "    x=f.relu(self.fc1(x))\n",
        "    x=f.relu(self.fc2(x))\n",
        "    x=self.fcf(x)\n",
        "\n",
        "    return x"
      ],
      "metadata": {
        "id": "4iX4YurlvUfm"
      },
      "execution_count": 33,
      "outputs": []
    },
    {
      "cell_type": "code",
      "source": [
        "torch.manual_seed(50)\n",
        "model= Model()\n",
        "url='https://gist.githubusercontent.com/curran/a08a1080b88344b0c8a7/raw/0e7a9b0a5d22642a06d3d5b9bcbad9890c8ee534/iris.csv'\n",
        "my_df= pd.read_csv(url)\n",
        "my_df['species'] =my_df['species'].replace(['setosa','versicolor','virginica'],[0,1,2])\n",
        "print (my_df)"
      ],
      "metadata": {
        "colab": {
          "base_uri": "https://localhost:8080/"
        },
        "collapsed": true,
        "id": "WPCVuUQHxDxM",
        "outputId": "165277c1-08a1-42ef-9e12-24ff42c28fa5"
      },
      "execution_count": 53,
      "outputs": [
        {
          "output_type": "stream",
          "name": "stdout",
          "text": [
            "     sepal_length  sepal_width  petal_length  petal_width  species\n",
            "0             5.1          3.5           1.4          0.2        0\n",
            "1             4.9          3.0           1.4          0.2        0\n",
            "2             4.7          3.2           1.3          0.2        0\n",
            "3             4.6          3.1           1.5          0.2        0\n",
            "4             5.0          3.6           1.4          0.2        0\n",
            "..            ...          ...           ...          ...      ...\n",
            "145           6.7          3.0           5.2          2.3        2\n",
            "146           6.3          2.5           5.0          1.9        2\n",
            "147           6.5          3.0           5.2          2.0        2\n",
            "148           6.2          3.4           5.4          2.3        2\n",
            "149           5.9          3.0           5.1          1.8        2\n",
            "\n",
            "[150 rows x 5 columns]\n"
          ]
        }
      ]
    },
    {
      "cell_type": "code",
      "source": [
        "X= my_df.drop('species',axis=1)\n",
        "y= my_df['species']\n",
        "X= X.values\n",
        "y= y.values"
      ],
      "metadata": {
        "id": "KRvaO-P_2pPr"
      },
      "execution_count": 55,
      "outputs": []
    },
    {
      "cell_type": "code",
      "source": [
        "#train test split\n",
        "X_train, X_test, y_train, y_test= train_test_split(X,y,test_size=0.2,random_state=50)\n",
        "X_train= torch.FloatTensor(X_train)\n",
        "X_test= torch.FloatTensor(X_test)\n",
        "y_train= torch.LongTensor(y_train)\n",
        "y_test= torch.LongTensor(y_test)"
      ],
      "metadata": {
        "id": "ikY8xJmc_fPt"
      },
      "execution_count": 56,
      "outputs": []
    },
    {
      "cell_type": "code",
      "source": [
        "criterion= nn.CrossEntropyLoss() #error\n",
        "optimizer= torch.optim.Adam(model.parameters(),lr=0.01) #lr = learning rate,"
      ],
      "metadata": {
        "collapsed": true,
        "id": "5BnQ4mFgAV7N"
      },
      "execution_count": 57,
      "outputs": []
    },
    {
      "cell_type": "code",
      "source": [
        "#tranning\n",
        "epoch= 100\n",
        "losses= []\n",
        "for i in range (epoch):\n",
        "  y_pred= model.forward(X_train)\n",
        "  loss= criterion(y_pred,y_train)\n",
        "  losses.append(loss.item())\n",
        "  if i%10==0:\n",
        "     print(f'epoch: {i} loss: {loss}')\n",
        "  optimizer.zero_grad()\n",
        "  loss.backward()\n",
        "  optimizer.step()\n"
      ],
      "metadata": {
        "colab": {
          "base_uri": "https://localhost:8080/"
        },
        "id": "3XzJ_jj7HCMh",
        "outputId": "8ac3c6cf-6563-4b3c-a5f4-81666f24b94b"
      },
      "execution_count": 74,
      "outputs": [
        {
          "output_type": "stream",
          "name": "stdout",
          "text": [
            "epoch: 0 loss: 0.03949620947241783\n",
            "epoch: 10 loss: 0.03949236124753952\n",
            "epoch: 20 loss: 0.039488811045885086\n",
            "epoch: 30 loss: 0.03948524221777916\n",
            "epoch: 40 loss: 0.039482466876506805\n",
            "epoch: 50 loss: 0.03947766125202179\n",
            "epoch: 60 loss: 0.03947470709681511\n",
            "epoch: 70 loss: 0.03947209194302559\n",
            "epoch: 80 loss: 0.03946862369775772\n",
            "epoch: 90 loss: 0.039483021944761276\n"
          ]
        }
      ]
    }
  ]
}